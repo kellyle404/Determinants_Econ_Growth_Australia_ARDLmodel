{
 "cells": [
  {
   "cell_type": "markdown",
   "metadata": {},
   "source": [
    "# Key Data on Health and Health Care by Race and Ethnicity in 2022"
   ]
  },
  {
   "cell_type": "markdown",
   "metadata": {},
   "source": [
    "https://www.kff.org/racial-equity-and-health-policy/report/key-data-on-health-and-health-care-by-race-and-ethnicity/"
   ]
  },
  {
   "cell_type": "markdown",
   "metadata": {},
   "source": [
    "<details><summary><h2>Contents</h2></summary>\n",
    "\n",
    "[**1. Introduction**](#introduction)\n",
    "\n",
    "[**2. Loading the data**](#data_loading)\n",
    "* [2.1. Loading libraries and reading the data](#loading)\n",
    "* [2.2. Data size and structure of the datasets](#data_loading)\n",
    "\n",
    "[**3. Background: Racial diversity within the U.S. today**](#racial_diversity)\n",
    "\n",
    "[**4. Health coverage, Access, and Use of care**](#coverage_access_useofcare)\n",
    "* [4.1. Uninsured rate](#2.1-loading)\n",
    "* [4.2. Access to a personal health care provider](#2.1-loading)\n",
    "* [4.3. Access to a usual source of care when sick](#2.1-loading)\n",
    "* [4.4. Access to mental health services](#2.1-loading)\n",
    "* [4.5. Access to a usual source of care when sick](#2.1-loading)\n",
    "* [4.6. Access to at least one dose of the COVID-19 vaccines](#2.1-loading)\n",
    "\n",
    "[**5. Health status, outcomes and behaviours**](#2-racial_diversity)\n",
    "* [5.1. Life expectancy](#2.1-loading)\n",
    "* [5.2. Self-reported health status](#2.1-loading)\n",
    "* [5.3. Birth risks and outcomes](#2.1-loading)\n",
    "* [5.4. HIV, AIDS diagnosis and deaths](#2.1-loading)\n",
    "* [5.5. Chronic disease and cancer](#2.1-loading)\n",
    "* [5.3. COVID-19 cases, hospitalisations and deaths](#2.1-loading)\n",
    "* [5.3. Smoking and obesity](#2.1-loading)\n",
    "* [5.3. Mental heath and substance use disorders](#2.1-loading)\n",
    "* [5.3. Suicide death rates](#2.1-loading)\n",
    "\n",
    "[**6. Social determinants of health**](#2-racial_diversity)\n",
    "* [6.1. Work status, family income and education](#2.1-loading)\n",
    "* [6.1. Assets and debt](#2.1-loading)\n",
    "* [6.1. Food security, housing and internet access](#2.1-loading)\n",
    "* [6.1. Transportation](#2.1-loading)\n",
    "* [6.1. Citizenship and language](#2.1-loading)\n",
    "* [6.1. Racism and adverse childhood experiences](#2.1-loading)\n",
    "\n",
    "</details>"
   ]
  },
  {
   "cell_type": "markdown",
   "metadata": {},
   "source": [
    "<a name=\"introduction\"></a>\n",
    "<details><summary><h2>1. Introduction</h2></summary>\n",
    "\n",
    "Racial and ethnic disparities in health and health care remain a persistent challenge in the United States. The COVID-19 pandemic’s uneven impact for people of color drew increased attention to inequities in health and health care, but they have been documented for decades and reflect longstanding structural and systemic inequities rooted in racism and discrimination. While inequities in access to and use of health care contribute to disparities in health, inequities across broader social and economic factors that drive health, often referred to as social determinants of health, also play a major role. Using data to identify disparities and the factors that drive them is important for developing interventions and directing resources to address them as well as for assessing progress toward achieving greater equity over time.\n",
    "\n",
    "This analysis examines how people of color fared compared to White people across a broad range of measures of health, health care, and social determinants of health. Where possible, we present data for six groups: White, Asian, Hispanic, Black, American Indian and Alaska Native (AIAN), and Native Hawaiian and Other Pacific Islander (NHOPI). People of Hispanic origin may be of any race, but we classify them as Hispanic for this analysis. We limit other groups to people who identify as non-Hispanic. Unless otherwise noted, differences described in the text are statistically significant at the p<0.05 level. We use the most recent data available from several federal survey and administrative datasets (see Methodology). When the same or similar measures are available in multiple datasets, we use the data that allows us to disaggregate for the largest number of racial/ethnic groups.\n",
    "\n",
    "Overall, this analysis found that Black, Hispanic, and AIAN people fared worse than White people across the majority of examined measures of health and health care and social determinants of health. Black people fared better than White people for some cancer screening and incidence measures, although they have higher rates of cancer mortality Despite worse measures of health coverage and access and social determinants of health, Hispanic people fared better than White people for some health measures, including life expectancy, some chronic diseases, and most measures of cancer incidence and mortality. These findings may, in part, have reflected variation in outcomes among subgroups of Hispanic people, with better outcomes for some groups, particularly recent immigrants to the U.S. \n",
    "\n",
    "Overall, these data showed that people of color fared worse compared to White people across a broad range of measures related to health and health care, particularly Black, Hispanic, and AIAN people. However, patterns varied across measures and groups and there were likely variations in measures within the broad racial and ethnic classifications used for this analysis. Many of these disparities placed people of color at increased risk for negative health and economic impacts from the COVID-19 pandemic. Moreover, the pandemic exacerbated many of these disparities and may contribute to widening disparities in the future.\n",
    "\n",
    "These data highlighted the importance of continuing efforts to address disparities in health and health care and show that it will be key for such efforts to address factors both within and beyond the health care system. While these data have provided insight into the status of disparities, ongoing data gaps and limitations hamper the ability to get a complete picture, particularly for smaller population groups and among subgroups of the broader racial and ethnic categories. As the share of people who identify as multiracial grows, it also will be important to develop improved methods for understanding their experiences. Going forward, reassessment of how data are collected and reported by race/ethnicity will be important for providing more nuanced understanding of disparities and, in turn, improved efforts to address them."
   ]
  },
  {
   "cell_type": "markdown",
   "metadata": {},
   "source": [
    "<a name=\"data_loading\"></a>\n",
    "## 2. Loading the data"
   ]
  },
  {
   "cell_type": "code",
   "execution_count": 36,
   "metadata": {},
   "outputs": [],
   "source": [
    "# Import necessary libraries\n",
    "import numpy as np\n",
    "import pandas as pd\n",
    "import seaborn as sns\n",
    "from IPython.display import display\n",
    "import matplotlib.pyplot as plt\n",
    "import plotly.express as px\n",
    "\n",
    "# Ignore warnings\n",
    "import warnings\n",
    "warnings.filterwarnings(\"ignore\")\n",
    "\n",
    "# Stop scientific notation for pandas\n",
    "pd.set_option('display.float_format', '{:.2f}'.format)"
   ]
  },
  {
   "cell_type": "markdown",
   "metadata": {},
   "source": [
    "https://www.census.gov/data/datasets/time-series/demo/popest/2020s-state-detail.html\n",
    "\n",
    "https://www2.census.gov/programs-surveys/popest/technical-documentation/file-layouts/2020-2022/sc-est2022-alldata6.pdf # file layout"
   ]
  },
  {
   "cell_type": "markdown",
   "metadata": {},
   "source": [
    "General population characteristics by States"
   ]
  },
  {
   "cell_type": "code",
   "execution_count": 37,
   "metadata": {},
   "outputs": [
    {
     "data": {
      "text/html": [
       "<div>\n",
       "<style scoped>\n",
       "    .dataframe tbody tr th:only-of-type {\n",
       "        vertical-align: middle;\n",
       "    }\n",
       "\n",
       "    .dataframe tbody tr th {\n",
       "        vertical-align: top;\n",
       "    }\n",
       "\n",
       "    .dataframe thead th {\n",
       "        text-align: right;\n",
       "    }\n",
       "</style>\n",
       "<table border=\"1\" class=\"dataframe\">\n",
       "  <thead>\n",
       "    <tr style=\"text-align: right;\">\n",
       "      <th></th>\n",
       "      <th>REGION</th>\n",
       "      <th>DIVISION</th>\n",
       "      <th>STATE</th>\n",
       "      <th>NAME</th>\n",
       "      <th>RACE</th>\n",
       "      <th>AGE</th>\n",
       "      <th>ESTIMATESBASE2020</th>\n",
       "      <th>POPESTIMATE2020</th>\n",
       "      <th>POPESTIMATE2021</th>\n",
       "      <th>POPESTIMATE2022</th>\n",
       "    </tr>\n",
       "  </thead>\n",
       "  <tbody>\n",
       "    <tr>\n",
       "      <th>0</th>\n",
       "      <td>3</td>\n",
       "      <td>6</td>\n",
       "      <td>1</td>\n",
       "      <td>Alabama</td>\n",
       "      <td>White</td>\n",
       "      <td>0</td>\n",
       "      <td>34498</td>\n",
       "      <td>34625</td>\n",
       "      <td>35016</td>\n",
       "      <td>35730</td>\n",
       "    </tr>\n",
       "    <tr>\n",
       "      <th>1</th>\n",
       "      <td>3</td>\n",
       "      <td>6</td>\n",
       "      <td>1</td>\n",
       "      <td>Alabama</td>\n",
       "      <td>White</td>\n",
       "      <td>1</td>\n",
       "      <td>35671</td>\n",
       "      <td>35326</td>\n",
       "      <td>35056</td>\n",
       "      <td>35418</td>\n",
       "    </tr>\n",
       "    <tr>\n",
       "      <th>2</th>\n",
       "      <td>3</td>\n",
       "      <td>6</td>\n",
       "      <td>1</td>\n",
       "      <td>Alabama</td>\n",
       "      <td>White</td>\n",
       "      <td>2</td>\n",
       "      <td>36934</td>\n",
       "      <td>36715</td>\n",
       "      <td>35637</td>\n",
       "      <td>35532</td>\n",
       "    </tr>\n",
       "    <tr>\n",
       "      <th>3</th>\n",
       "      <td>3</td>\n",
       "      <td>6</td>\n",
       "      <td>1</td>\n",
       "      <td>Alabama</td>\n",
       "      <td>White</td>\n",
       "      <td>3</td>\n",
       "      <td>37876</td>\n",
       "      <td>37558</td>\n",
       "      <td>37165</td>\n",
       "      <td>36059</td>\n",
       "    </tr>\n",
       "    <tr>\n",
       "      <th>4</th>\n",
       "      <td>3</td>\n",
       "      <td>6</td>\n",
       "      <td>1</td>\n",
       "      <td>Alabama</td>\n",
       "      <td>White</td>\n",
       "      <td>4</td>\n",
       "      <td>38814</td>\n",
       "      <td>38778</td>\n",
       "      <td>37968</td>\n",
       "      <td>37602</td>\n",
       "    </tr>\n",
       "  </tbody>\n",
       "</table>\n",
       "</div>"
      ],
      "text/plain": [
       "   REGION  DIVISION  STATE     NAME   RACE  AGE  ESTIMATESBASE2020  \\\n",
       "0       3         6      1  Alabama  White    0              34498   \n",
       "1       3         6      1  Alabama  White    1              35671   \n",
       "2       3         6      1  Alabama  White    2              36934   \n",
       "3       3         6      1  Alabama  White    3              37876   \n",
       "4       3         6      1  Alabama  White    4              38814   \n",
       "\n",
       "   POPESTIMATE2020  POPESTIMATE2021  POPESTIMATE2022  \n",
       "0            34625            35016            35730  \n",
       "1            35326            35056            35418  \n",
       "2            36715            35637            35532  \n",
       "3            37558            37165            36059  \n",
       "4            38778            37968            37602  "
      ]
     },
     "execution_count": 37,
     "metadata": {},
     "output_type": "execute_result"
    }
   ],
   "source": [
    "all_us = pd.read_csv('sc-est2022-alldata6.csv').reset_index(drop = True)\n",
    "all_us = all_us.drop(columns = {'SUMLEV', 'SEX', 'ORIGIN'})\n",
    "all_us['RACE'] = all_us['RACE'].astype(str)\n",
    "all_us['RACE'] = all_us['RACE'].replace({\n",
    "    '1': 'White',\n",
    "    '2': 'Black',\n",
    "    '3': 'AIAN',\n",
    "    '4': 'Asian',\n",
    "    '5': 'NHOPI', \n",
    "    '6': '>1 race'\n",
    "})\n",
    "all_us.head()"
   ]
  },
  {
   "cell_type": "markdown",
   "metadata": {},
   "source": [
    "<a name=\"racial_diversity\"></a>\n",
    "## 3. Background: Racial diversity within the U.S. today"
   ]
  },
  {
   "cell_type": "code",
   "execution_count": 38,
   "metadata": {},
   "outputs": [
    {
     "data": {
      "text/html": [
       "<div>\n",
       "<style scoped>\n",
       "    .dataframe tbody tr th:only-of-type {\n",
       "        vertical-align: middle;\n",
       "    }\n",
       "\n",
       "    .dataframe tbody tr th {\n",
       "        vertical-align: top;\n",
       "    }\n",
       "\n",
       "    .dataframe thead th {\n",
       "        text-align: right;\n",
       "    }\n",
       "</style>\n",
       "<table border=\"1\" class=\"dataframe\">\n",
       "  <thead>\n",
       "    <tr style=\"text-align: right;\">\n",
       "      <th></th>\n",
       "      <th>RACE</th>\n",
       "      <th>POPESTIMATE2022</th>\n",
       "    </tr>\n",
       "  </thead>\n",
       "  <tbody>\n",
       "    <tr>\n",
       "      <th>0</th>\n",
       "      <td>&gt;1 race</td>\n",
       "      <td>40282628</td>\n",
       "    </tr>\n",
       "    <tr>\n",
       "      <th>1</th>\n",
       "      <td>AIAN</td>\n",
       "      <td>17528936</td>\n",
       "    </tr>\n",
       "    <tr>\n",
       "      <th>2</th>\n",
       "      <td>Asian</td>\n",
       "      <td>83815764</td>\n",
       "    </tr>\n",
       "    <tr>\n",
       "      <th>3</th>\n",
       "      <td>Black</td>\n",
       "      <td>181598972</td>\n",
       "    </tr>\n",
       "    <tr>\n",
       "      <th>4</th>\n",
       "      <td>NHOPI</td>\n",
       "      <td>3515232</td>\n",
       "    </tr>\n",
       "    <tr>\n",
       "      <th>5</th>\n",
       "      <td>White</td>\n",
       "      <td>1006408696</td>\n",
       "    </tr>\n",
       "  </tbody>\n",
       "</table>\n",
       "</div>"
      ],
      "text/plain": [
       "      RACE  POPESTIMATE2022\n",
       "0  >1 race         40282628\n",
       "1     AIAN         17528936\n",
       "2    Asian         83815764\n",
       "3    Black        181598972\n",
       "4    NHOPI          3515232\n",
       "5    White       1006408696"
      ]
     },
     "execution_count": 38,
     "metadata": {},
     "output_type": "execute_result"
    }
   ],
   "source": [
    "race_total = all_us.groupby('RACE')[['POPESTIMATE2022']].sum()\n",
    "race_total = race_total.reset_index()\n",
    "\n",
    "race_total"
   ]
  },
  {
   "cell_type": "code",
   "execution_count": 39,
   "metadata": {},
   "outputs": [
    {
     "data": {
      "image/png": "[encoded data removed]",
      "text/plain": [
       "<Figure size 600x600 with 1 Axes>"
      ]
     },
     "metadata": {},
     "output_type": "display_data"
    }
   ],
   "source": [
    "sns.set_style('dark')\n",
    "sns.set_palette('viridis_r')\n",
    "plt.figure(figsize = (6, 6));\n",
    "\n",
    "plt.pie(\n",
    "    x = race_total['POPESTIMATE2022'],\n",
    "    startangle = 0,\n",
    "    labels = race_total['RACE'],\n",
    "    textprops = {'fontsize': 10},    \n",
    ")\n",
    "plt.legend(bbox_to_anchor = (1.2, 1))\n",
    "plt.title('Total United States Population by Race/Ethnicity, 2022');"
   ]
  },
  {
   "cell_type": "markdown",
   "metadata": {},
   "source": [
    "**Among individuals identifying with a single race, the largest group is composed of White individuals, constituting approximately 54.82% of this demographic**. Following this, Black individuals make up a significant portion, accounting for around 10.99%. The American Indian and Alaska Native (AIAN) community is represented by approximately 0.87%, while the Asian population amounts to about 5.32%. The Native Hawaiian and Other Pacific Islander (NHOPI) community has a smaller presence, accounting for approximately 0.18%, and the Other category comprises around 6.61%. This data underscores the diverse and varied demographic landscape within single-race populations, emphasizing the substantial proportional presence of each ethnic group."
   ]
  },
  {
   "cell_type": "code",
   "execution_count": 40,
   "metadata": {},
   "outputs": [
    {
     "data": {
      "text/html": [
       "<div>\n",
       "<style scoped>\n",
       "    .dataframe tbody tr th:only-of-type {\n",
       "        vertical-align: middle;\n",
       "    }\n",
       "\n",
       "    .dataframe tbody tr th {\n",
       "        vertical-align: top;\n",
       "    }\n",
       "\n",
       "    .dataframe thead th {\n",
       "        text-align: right;\n",
       "    }\n",
       "</style>\n",
       "<table border=\"1\" class=\"dataframe\">\n",
       "  <thead>\n",
       "    <tr style=\"text-align: right;\">\n",
       "      <th></th>\n",
       "      <th>NAME</th>\n",
       "      <th>POC (%)</th>\n",
       "    </tr>\n",
       "  </thead>\n",
       "  <tbody>\n",
       "    <tr>\n",
       "      <th>0</th>\n",
       "      <td>Alabama</td>\n",
       "      <td>29.19</td>\n",
       "    </tr>\n",
       "    <tr>\n",
       "      <th>1</th>\n",
       "      <td>Alaska</td>\n",
       "      <td>27.76</td>\n",
       "    </tr>\n",
       "    <tr>\n",
       "      <th>2</th>\n",
       "      <td>Arizona</td>\n",
       "      <td>14.93</td>\n",
       "    </tr>\n",
       "    <tr>\n",
       "      <th>3</th>\n",
       "      <td>Arkansas</td>\n",
       "      <td>19.05</td>\n",
       "    </tr>\n",
       "    <tr>\n",
       "      <th>4</th>\n",
       "      <td>California</td>\n",
       "      <td>25.00</td>\n",
       "    </tr>\n",
       "  </tbody>\n",
       "</table>\n",
       "</div>"
      ],
      "text/plain": [
       "         NAME  POC (%)\n",
       "0     Alabama    29.19\n",
       "1      Alaska    27.76\n",
       "2     Arizona    14.93\n",
       "3    Arkansas    19.05\n",
       "4  California    25.00"
      ]
     },
     "execution_count": 40,
     "metadata": {},
     "output_type": "execute_result"
    }
   ],
   "source": [
    "states_poc = all_us[['RACE', 'NAME', 'POPESTIMATE2022']]\n",
    "states_poc = pd.pivot_table(states_poc, columns = 'RACE', index = 'NAME', values = 'POPESTIMATE2022')\n",
    "states_poc['POC (%)'] = states_poc[['AIAN', 'Asian', 'Black', 'NHOPI']].sum(axis = 1) / states_poc.loc[:].sum(axis = 1) * 100\n",
    "states_poc = states_poc.iloc[:, -1].reset_index()\n",
    "states_poc.head()"
   ]
  },
  {
   "cell_type": "code",
   "execution_count": 41,
   "metadata": {},
   "outputs": [],
   "source": [
    "# Mapping of full state names to code names\n",
    "us_state_to_abbrev = {\n",
    "    \"Alabama\": \"AL\",\n",
    "    \"Alaska\": \"AK\",\n",
    "    \"Arizona\": \"AZ\",\n",
    "    \"Arkansas\": \"AR\",\n",
    "    \"California\": \"CA\",\n",
    "    \"Colorado\": \"CO\",\n",
    "    \"Connecticut\": \"CT\",\n",
    "    \"Delaware\": \"DE\",\n",
    "    \"Florida\": \"FL\",\n",
    "    \"Georgia\": \"GA\",\n",
    "    \"Hawaii\": \"HI\",\n",
    "    \"Idaho\": \"ID\",\n",
    "    \"Illinois\": \"IL\",\n",
    "    \"Indiana\": \"IN\",\n",
    "    \"Iowa\": \"IA\",\n",
    "    \"Kansas\": \"KS\",\n",
    "    \"Kentucky\": \"KY\",\n",
    "    \"Louisiana\": \"LA\",\n",
    "    \"Maine\": \"ME\",\n",
    "    \"Maryland\": \"MD\",\n",
    "    \"Massachusetts\": \"MA\",\n",
    "    \"Michigan\": \"MI\",\n",
    "    \"Minnesota\": \"MN\",\n",
    "    \"Mississippi\": \"MS\",\n",
    "    \"Missouri\": \"MO\",\n",
    "    \"Montana\": \"MT\",\n",
    "    \"Nebraska\": \"NE\",\n",
    "    \"Nevada\": \"NV\",\n",
    "    \"New Hampshire\": \"NH\",\n",
    "    \"New Jersey\": \"NJ\",\n",
    "    \"New Mexico\": \"NM\",\n",
    "    \"New York\": \"NY\",\n",
    "    \"North Carolina\": \"NC\",\n",
    "    \"North Dakota\": \"ND\",\n",
    "    \"Ohio\": \"OH\",\n",
    "    \"Oklahoma\": \"OK\",\n",
    "    \"Oregon\": \"OR\",\n",
    "    \"Pennsylvania\": \"PA\",\n",
    "    \"Rhode Island\": \"RI\",\n",
    "    \"South Carolina\": \"SC\",\n",
    "    \"South Dakota\": \"SD\",\n",
    "    \"Tennessee\": \"TN\",\n",
    "    \"Texas\": \"TX\",\n",
    "    \"Utah\": \"UT\",\n",
    "    \"Vermont\": \"VT\",\n",
    "    \"Virginia\": \"VA\",\n",
    "    \"Washington\": \"WA\",\n",
    "    \"West Virginia\": \"WV\",\n",
    "    \"Wisconsin\": \"WI\",\n",
    "    \"Wyoming\": \"WY\",\n",
    "    \"District of Columbia\": \"DC\",\n",
    "    \"American Samoa\": \"AS\",\n",
    "    \"Guam\": \"GU\",\n",
    "    \"Northern Mariana Islands\": \"MP\",\n",
    "    \"Puerto Rico\": \"PR\",\n",
    "    \"United States Minor Outlying Islands\": \"UM\",\n",
    "    \"U.S. Virgin Islands\": \"VI\",\n",
    "}"
   ]
  },
  {
   "cell_type": "code",
   "execution_count": 42,
   "metadata": {},
   "outputs": [
    {
     "data": {
      "application/vnd.plotly.v1+json": {
       "config": {
        "plotlyServerURL": "https://plot.ly"
       },
       "data": [
        {
         "coloraxis": "coloraxis",
         "customdata": [
          [
           "Alabama"
          ],
          [
           "Alaska"
          ],
          [
           "Arizona"
          ],
          [
           "Arkansas"
          ],
          [
           "California"
          ],
          [
           "Colorado"
          ],
          [
           "Connecticut"
          ],
          [
           "Delaware"
          ],
          [
           "District of Columbia"
          ],
          [
           "Florida"
          ],
          [
           "Georgia"
          ],
          [
           "Hawaii"
          ],
          [
           "Idaho"
          ],
          [
           "Illinois"
          ],
          [
           "Indiana"
          ],
          [
           "Iowa"
          ],
          [
           "Kansas"
          ],
          [
           "Kentucky"
          ],
          [
           "Louisiana"
          ],
          [
           "Maine"
          ],
          [
           "Maryland"
          ],
          [
           "Massachusetts"
          ],
          [
           "Michigan"
          ],
          [
           "Minnesota"
          ],
          [
           "Mississippi"
          ],
          [
           "Missouri"
          ],
          [
           "Montana"
          ],
          [
           "Nebraska"
          ],
          [
           "Nevada"
          ],
          [
           "New Hampshire"
          ],
          [
           "New Jersey"
          ],
          [
           "New Mexico"
          ],
          [
           "New York"
          ],
          [
           "North Carolina"
          ],
          [
           "North Dakota"
          ],
          [
           "Ohio"
          ],
          [
           "Oklahoma"
          ],
          [
           "Oregon"
          ],
          [
           "Pennsylvania"
          ],
          [
           "Rhode Island"
          ],
          [
           "South Carolina"
          ],
          [
           "South Dakota"
          ],
          [
           "Tennessee"
          ],
          [
           "Texas"
          ],
          [
           "Utah"
          ],
          [
           "Vermont"
          ],
          [
           "Virginia"
          ],
          [
           "Washington"
          ],
          [
           "West Virginia"
          ],
          [
           "Wisconsin"
          ],
          [
           "Wyoming"
          ]
         ],
         "geo": "geo",
         "hovertemplate": "<b>%{customdata[0]}</b><br>POC: %{z:.2f}%",
         "locationmode": "USA-states",
         "locations": [
          "AL",
          "AK",
          "AZ",
          "AR",
          "CA",
          "CO",
          "CT",
          "DE",
          "DC",
          "FL",
          "GA",
          "HI",
          "ID",
          "IL",
          "IN",
          "IA",
          "KS",
          "KY",
          "LA",
          "ME",
          "MD",
          "MA",
          "MI",
          "MN",
          "MS",
          "MO",
          "MT",
          "NE",
          "NV",
          "NH",
          "NJ",
          "NM",
          "NY",
          "NC",
          "ND",
          "OH",
          "OK",
          "OR",
          "PA",
          "RI",
          "SC",
          "SD",
          "TN",
          "TX",
          "UT",
          "VT",
          "VA",
          "WA",
          "WV",
          "WI",
          "WY"
         ],
         "marker": {
          "line": {
           "color": "white",
           "width": 1
          }
         },
         "name": "",
         "type": "choropleth",
         "z": [
          29.18860074382732,
          27.763047944131742,
          14.92699543170267,
          19.047903607685353,
          24.997193137409283,
          10.395165966144091,
          18.906680675802942,
          28.971932332805707,
          50.571819417299416,
          20.77212751928842,
          38.57687927545407,
          50.054575904946276,
          4.580272744197753,
          21.674003054514568,
          13.647665013375457,
          8.004737984519377,
          10.82321297856766,
          10.86248506862339,
          35.60118085303146,
          4.106934037853524,
          39.54519795090078,
          17.81404513966967,
          18.43596937766198,
          14.595752034568065,
          39.645932034651025,
          14.852660839173856,
          8.2499530220409,
          9.974628072338195,
          22.871118506928752,
          5.558864446102473,
          26.84526888641058,
          16.041212410284363,
          28.563372817538475,
          27.47227233866279,
          10.791377985039674,
          16.446005965605135,
          20.270187571520975,
          9.839446225440355,
          16.84467046273792,
          14.174195919666028,
          28.92931821511769,
          13.001635481148002,
          19.45351088637208,
          20.341768440788965,
          7.061287269285376,
          4.0150587886206,
          28.065925048070394,
          17.876409652153296,
          4.957648792556824,
          11.137694633841203,
          5.257825763139834
         ]
        }
       ],
       "layout": {
        "coloraxis": {
         "colorbar": {
          "title": {
           "text": "Percentage of POC"
          }
         },
         "colorscale": [
          [
           0,
           "#440154"
          ],
          [
           0.1111111111111111,
           "#482878"
          ],
          [
           0.2222222222222222,
           "#3e4989"
          ],
          [
           0.3333333333333333,
           "#31688e"
          ],
          [
           0.4444444444444444,
           "#26828e"
          ],
          [
           0.5555555555555556,
           "#1f9e89"
          ],
          [
           0.6666666666666666,
           "#35b779"
          ],
          [
           0.7777777777777778,
           "#6ece58"
          ],
          [
           0.8888888888888888,
           "#b5de2b"
          ],
          [
           1,
           "#fde725"
          ]
         ]
        },
        "geo": {
         "center": {},
         "domain": {
          "x": [
           0,
           1
          ],
          "y": [
           0,
           1
          ]
         },
         "scope": "usa"
        },
        "legend": {
         "tracegroupgap": 0
        },
        "template": {
         "data": {
          "bar": [
           {
            "error_x": {
             "color": "#2a3f5f"
            },
            "error_y": {
             "color": "#2a3f5f"
            },
            "marker": {
             "line": {
              "color": "#E5ECF6",
              "width": 0.5
             },
             "pattern": {
              "fillmode": "overlay",
              "size": 10,
              "solidity": 0.2
             }
            },
            "type": "bar"
           }
          ],
          "barpolar": [
           {
            "marker": {
             "line": {
              "color": "#E5ECF6",
              "width": 0.5
             },
             "pattern": {
              "fillmode": "overlay",
              "size": 10,
              "solidity": 0.2
             }
            },
            "type": "barpolar"
           }
          ],
          "carpet": [
           {
            "aaxis": {
             "endlinecolor": "#2a3f5f",
             "gridcolor": "white",
             "linecolor": "white",
             "minorgridcolor": "white",
             "startlinecolor": "#2a3f5f"
            },
            "baxis": {
             "endlinecolor": "#2a3f5f",
             "gridcolor": "white",
             "linecolor": "white",
             "minorgridcolor": "white",
             "startlinecolor": "#2a3f5f"
            },
            "type": "carpet"
           }
          ],
          "choropleth": [
           {
            "colorbar": {
             "outlinewidth": 0,
             "ticks": ""
            },
            "type": "choropleth"
           }
          ],
          "contour": [
           {
            "colorbar": {
             "outlinewidth": 0,
             "ticks": ""
            },
            "colorscale": [
             [
              0,
              "#0d0887"
             ],
             [
              0.1111111111111111,
              "#46039f"
             ],
             [
              0.2222222222222222,
              "#7201a8"
             ],
             [
              0.3333333333333333,
              "#9c179e"
             ],
             [
              0.4444444444444444,
              "#bd3786"
             ],
             [
              0.5555555555555556,
              "#d8576b"
             ],
             [
              0.6666666666666666,
              "#ed7953"
             ],
             [
              0.7777777777777778,
              "#fb9f3a"
             ],
             [
              0.8888888888888888,
              "#fdca26"
             ],
             [
              1,
              "#f0f921"
             ]
            ],
            "type": "contour"
           }
          ],
          "contourcarpet": [
           {
            "colorbar": {
             "outlinewidth": 0,
             "ticks": ""
            },
            "type": "contourcarpet"
           }
          ],
          "heatmap": [
           {
            "colorbar": {
             "outlinewidth": 0,
             "ticks": ""
            },
            "colorscale": [
             [
              0,
              "#0d0887"
             ],
             [
              0.1111111111111111,
              "#46039f"
             ],
             [
              0.2222222222222222,
              "#7201a8"
             ],
             [
              0.3333333333333333,
              "#9c179e"
             ],
             [
              0.4444444444444444,
              "#bd3786"
             ],
             [
              0.5555555555555556,
              "#d8576b"
             ],
             [
              0.6666666666666666,
              "#ed7953"
             ],
             [
              0.7777777777777778,
              "#fb9f3a"
             ],
             [
              0.8888888888888888,
              "#fdca26"
             ],
             [
              1,
              "#f0f921"
             ]
            ],
            "type": "heatmap"
           }
          ],
          "heatmapgl": [
           {
            "colorbar": {
             "outlinewidth": 0,
             "ticks": ""
            },
            "colorscale": [
             [
              0,
              "#0d0887"
             ],
             [
              0.1111111111111111,
              "#46039f"
             ],
             [
              0.2222222222222222,
              "#7201a8"
             ],
             [
              0.3333333333333333,
              "#9c179e"
             ],
             [
              0.4444444444444444,
              "#bd3786"
             ],
             [
              0.5555555555555556,
              "#d8576b"
             ],
             [
              0.6666666666666666,
              "#ed7953"
             ],
             [
              0.7777777777777778,
              "#fb9f3a"
             ],
             [
              0.8888888888888888,
              "#fdca26"
             ],
             [
              1,
              "#f0f921"
             ]
            ],
            "type": "heatmapgl"
           }
          ],
          "histogram": [
           {
            "marker": {
             "pattern": {
              "fillmode": "overlay",
              "size": 10,
              "solidity": 0.2
             }
            },
            "type": "histogram"
           }
          ],
          "histogram2d": [
           {
            "colorbar": {
             "outlinewidth": 0,
             "ticks": ""
            },
            "colorscale": [
             [
              0,
              "#0d0887"
             ],
             [
              0.1111111111111111,
              "#46039f"
             ],
             [
              0.2222222222222222,
              "#7201a8"
             ],
             [
              0.3333333333333333,
              "#9c179e"
             ],
             [
              0.4444444444444444,
              "#bd3786"
             ],
             [
              0.5555555555555556,
              "#d8576b"
             ],
             [
              0.6666666666666666,
              "#ed7953"
             ],
             [
              0.7777777777777778,
              "#fb9f3a"
             ],
             [
              0.8888888888888888,
              "#fdca26"
             ],
             [
              1,
              "#f0f921"
             ]
            ],
            "type": "histogram2d"
           }
          ],
          "histogram2dcontour": [
           {
            "colorbar": {
             "outlinewidth": 0,
             "ticks": ""
            },
            "colorscale": [
             [
              0,
              "#0d0887"
             ],
             [
              0.1111111111111111,
              "#46039f"
             ],
             [
              0.2222222222222222,
              "#7201a8"
             ],
             [
              0.3333333333333333,
              "#9c179e"
             ],
             [
              0.4444444444444444,
              "#bd3786"
             ],
             [
              0.5555555555555556,
              "#d8576b"
             ],
             [
              0.6666666666666666,
              "#ed7953"
             ],
             [
              0.7777777777777778,
              "#fb9f3a"
             ],
             [
              0.8888888888888888,
              "#fdca26"
             ],
             [
              1,
              "#f0f921"
             ]
            ],
            "type": "histogram2dcontour"
           }
          ],
          "mesh3d": [
           {
            "colorbar": {
             "outlinewidth": 0,
             "ticks": ""
            },
            "type": "mesh3d"
           }
          ],
          "parcoords": [
           {
            "line": {
             "colorbar": {
              "outlinewidth": 0,
              "ticks": ""
             }
            },
            "type": "parcoords"
           }
          ],
          "pie": [
           {
            "automargin": true,
            "type": "pie"
           }
          ],
          "scatter": [
           {
            "fillpattern": {
             "fillmode": "overlay",
             "size": 10,
             "solidity": 0.2
            },
            "type": "scatter"
           }
          ],
          "scatter3d": [
           {
            "line": {
             "colorbar": {
              "outlinewidth": 0,
              "ticks": ""
             }
            },
            "marker": {
             "colorbar": {
              "outlinewidth": 0,
              "ticks": ""
             }
            },
            "type": "scatter3d"
           }
          ],
          "scattercarpet": [
           {
            "marker": {
             "colorbar": {
              "outlinewidth": 0,
              "ticks": ""
             }
            },
            "type": "scattercarpet"
           }
          ],
          "scattergeo": [
           {
            "marker": {
             "colorbar": {
              "outlinewidth": 0,
              "ticks": ""
             }
            },
            "type": "scattergeo"
           }
          ],
          "scattergl": [
           {
            "marker": {
             "colorbar": {
              "outlinewidth": 0,
              "ticks": ""
             }
            },
            "type": "scattergl"
           }
          ],
          "scattermapbox": [
           {
            "marker": {
             "colorbar": {
              "outlinewidth": 0,
              "ticks": ""
             }
            },
            "type": "scattermapbox"
           }
          ],
          "scatterpolar": [
           {
            "marker": {
             "colorbar": {
              "outlinewidth": 0,
              "ticks": ""
             }
            },
            "type": "scatterpolar"
           }
          ],
          "scatterpolargl": [
           {
            "marker": {
             "colorbar": {
              "outlinewidth": 0,
              "ticks": ""
             }
            },
            "type": "scatterpolargl"
           }
          ],
          "scatterternary": [
           {
            "marker": {
             "colorbar": {
              "outlinewidth": 0,
              "ticks": ""
             }
            },
            "type": "scatterternary"
           }
          ],
          "surface": [
           {
            "colorbar": {
             "outlinewidth": 0,
             "ticks": ""
            },
            "colorscale": [
             [
              0,
              "#0d0887"
             ],
             [
              0.1111111111111111,
              "#46039f"
             ],
             [
              0.2222222222222222,
              "#7201a8"
             ],
             [
              0.3333333333333333,
              "#9c179e"
             ],
             [
              0.4444444444444444,
              "#bd3786"
             ],
             [
              0.5555555555555556,
              "#d8576b"
             ],
             [
              0.6666666666666666,
              "#ed7953"
             ],
             [
              0.7777777777777778,
              "#fb9f3a"
             ],
             [
              0.8888888888888888,
              "#fdca26"
             ],
             [
              1,
              "#f0f921"
             ]
            ],
            "type": "surface"
           }
          ],
          "table": [
           {
            "cells": {
             "fill": {
              "color": "#EBF0F8"
             },
             "line": {
              "color": "white"
             }
            },
            "header": {
             "fill": {
              "color": "#C8D4E3"
             },
             "line": {
              "color": "white"
             }
            },
            "type": "table"
           }
          ]
         },
         "layout": {
          "annotationdefaults": {
           "arrowcolor": "#2a3f5f",
           "arrowhead": 0,
           "arrowwidth": 1
          },
          "autotypenumbers": "strict",
          "coloraxis": {
           "colorbar": {
            "outlinewidth": 0,
            "ticks": ""
           }
          },
          "colorscale": {
           "diverging": [
            [
             0,
             "#8e0152"
            ],
            [
             0.1,
             "#c51b7d"
            ],
            [
             0.2,
             "#de77ae"
            ],
            [
             0.3,
             "#f1b6da"
            ],
            [
             0.4,
             "#fde0ef"
            ],
            [
             0.5,
             "#f7f7f7"
            ],
            [
             0.6,
             "#e6f5d0"
            ],
            [
             0.7,
             "#b8e186"
            ],
            [
             0.8,
             "#7fbc41"
            ],
            [
             0.9,
             "#4d9221"
            ],
            [
             1,
             "#276419"
            ]
           ],
           "sequential": [
            [
             0,
             "#0d0887"
            ],
            [
             0.1111111111111111,
             "#46039f"
            ],
            [
             0.2222222222222222,
             "#7201a8"
            ],
            [
             0.3333333333333333,
             "#9c179e"
            ],
            [
             0.4444444444444444,
             "#bd3786"
            ],
            [
             0.5555555555555556,
             "#d8576b"
            ],
            [
             0.6666666666666666,
             "#ed7953"
            ],
            [
             0.7777777777777778,
             "#fb9f3a"
            ],
            [
             0.8888888888888888,
             "#fdca26"
            ],
            [
             1,
             "#f0f921"
            ]
           ],
           "sequentialminus": [
            [
             0,
             "#0d0887"
            ],
            [
             0.1111111111111111,
             "#46039f"
            ],
            [
             0.2222222222222222,
             "#7201a8"
            ],
            [
             0.3333333333333333,
             "#9c179e"
            ],
            [
             0.4444444444444444,
             "#bd3786"
            ],
            [
             0.5555555555555556,
             "#d8576b"
            ],
            [
             0.6666666666666666,
             "#ed7953"
            ],
            [
             0.7777777777777778,
             "#fb9f3a"
            ],
            [
             0.8888888888888888,
             "#fdca26"
            ],
            [
             1,
             "#f0f921"
            ]
           ]
          },
          "colorway": [
           "#636efa",
           "#EF553B",
           "#00cc96",
           "#ab63fa",
           "#FFA15A",
           "#19d3f3",
           "#FF6692",
           "#B6E880",
           "#FF97FF",
           "#FECB52"
          ],
          "font": {
           "color": "#2a3f5f"
          },
          "geo": {
           "bgcolor": "white",
           "lakecolor": "white",
           "landcolor": "#E5ECF6",
           "showlakes": true,
           "showland": true,
           "subunitcolor": "white"
          },
          "hoverlabel": {
           "align": "left"
          },
          "hovermode": "closest",
          "mapbox": {
           "style": "light"
          },
          "paper_bgcolor": "white",
          "plot_bgcolor": "#E5ECF6",
          "polar": {
           "angularaxis": {
            "gridcolor": "white",
            "linecolor": "white",
            "ticks": ""
           },
           "bgcolor": "#E5ECF6",
           "radialaxis": {
            "gridcolor": "white",
            "linecolor": "white",
            "ticks": ""
           }
          },
          "scene": {
           "xaxis": {
            "backgroundcolor": "#E5ECF6",
            "gridcolor": "white",
            "gridwidth": 2,
            "linecolor": "white",
            "showbackground": true,
            "ticks": "",
            "zerolinecolor": "white"
           },
           "yaxis": {
            "backgroundcolor": "#E5ECF6",
            "gridcolor": "white",
            "gridwidth": 2,
            "linecolor": "white",
            "showbackground": true,
            "ticks": "",
            "zerolinecolor": "white"
           },
           "zaxis": {
            "backgroundcolor": "#E5ECF6",
            "gridcolor": "white",
            "gridwidth": 2,
            "linecolor": "white",
            "showbackground": true,
            "ticks": "",
            "zerolinecolor": "white"
           }
          },
          "shapedefaults": {
           "line": {
            "color": "#2a3f5f"
           }
          },
          "ternary": {
           "aaxis": {
            "gridcolor": "white",
            "linecolor": "white",
            "ticks": ""
           },
           "baxis": {
            "gridcolor": "white",
            "linecolor": "white",
            "ticks": ""
           },
           "bgcolor": "#E5ECF6",
           "caxis": {
            "gridcolor": "white",
            "linecolor": "white",
            "ticks": ""
           }
          },
          "title": {
           "x": 0.05
          },
          "xaxis": {
           "automargin": true,
           "gridcolor": "white",
           "linecolor": "white",
           "ticks": "",
           "title": {
            "standoff": 15
           },
           "zerolinecolor": "white",
           "zerolinewidth": 2
          },
          "yaxis": {
           "automargin": true,
           "gridcolor": "white",
           "linecolor": "white",
           "ticks": "",
           "title": {
            "standoff": 15
           },
           "zerolinecolor": "white",
           "zerolinewidth": 2
          }
         }
        },
        "title": {
         "text": "Share of POC per State in the U.S."
        }
       }
      }
     },
     "metadata": {},
     "output_type": "display_data"
    }
   ],
   "source": [
    "states_poc['Code Name'] = states_poc['NAME'].map(us_state_to_abbrev)\n",
    "\n",
    "fig  =  px.choropleth(\n",
    "    states_poc, \n",
    "    locations = 'Code Name',\n",
    "    locationmode = 'USA-states',\n",
    "    color = 'POC (%)',\n",
    "    color_continuous_scale = 'viridis',\n",
    "    title = 'Share of POC per State in the U.S.',\n",
    "    labels = {'POC (%)': 'Percentage of POC'},\n",
    "    hover_data = ['NAME'],  \n",
    "    scope = 'usa',\n",
    ")\n",
    "\n",
    "fig.update_traces(\n",
    "    marker_line_color='white',\n",
    "    marker_line_width=1,\n",
    "    hovertemplate='<b>%{customdata[0]}</b><br>POC: %{z:.2f}%'\n",
    ")\n",
    "\n",
    "fig.show()"
   ]
  },
  {
   "cell_type": "markdown",
   "metadata": {},
   "source": [
    "POC representation varies, ranging from below 10% in states such as Maine, Vermont, and West Virginia to exceeding 50% in California, the District of Columbia, Hawaii, Maryland, Nevada, New Mexico, and Texas. \n",
    "* Specifically, a significant portion of the Black population, comprising 59%, resides in Southern states, while nearly eight in ten Hispanic individuals live in either the Western (39%) or Southern (38%) regions. \n",
    "* A substantial percentage of the Native Hawaiian and Other Pacific Islander (NHOPI) population, at 76%, and almost half (48%) of the American Indian and Alaska Native (AIAN) population, are situated in the Western region. \n",
    "* 44% of the Asian population resides in the Western part of the country."
   ]
  },
  {
   "cell_type": "code",
   "execution_count": 43,
   "metadata": {},
   "outputs": [
    {
     "data": {
      "text/html": [
       "<div>\n",
       "<style scoped>\n",
       "    .dataframe tbody tr th:only-of-type {\n",
       "        vertical-align: middle;\n",
       "    }\n",
       "\n",
       "    .dataframe tbody tr th {\n",
       "        vertical-align: top;\n",
       "    }\n",
       "\n",
       "    .dataframe thead th {\n",
       "        text-align: right;\n",
       "    }\n",
       "</style>\n",
       "<table border=\"1\" class=\"dataframe\">\n",
       "  <thead>\n",
       "    <tr style=\"text-align: right;\">\n",
       "      <th></th>\n",
       "      <th>RACE</th>\n",
       "      <th>AGE</th>\n",
       "      <th>POPESTIMATE2022</th>\n",
       "      <th>count</th>\n",
       "    </tr>\n",
       "  </thead>\n",
       "  <tbody>\n",
       "    <tr>\n",
       "      <th>0</th>\n",
       "      <td>&gt;1 race</td>\n",
       "      <td>0</td>\n",
       "      <td>42</td>\n",
       "      <td>4</td>\n",
       "    </tr>\n",
       "    <tr>\n",
       "      <th>1</th>\n",
       "      <td>&gt;1 race</td>\n",
       "      <td>0</td>\n",
       "      <td>118</td>\n",
       "      <td>4</td>\n",
       "    </tr>\n",
       "    <tr>\n",
       "      <th>2</th>\n",
       "      <td>&gt;1 race</td>\n",
       "      <td>0</td>\n",
       "      <td>262</td>\n",
       "      <td>3</td>\n",
       "    </tr>\n",
       "    <tr>\n",
       "      <th>3</th>\n",
       "      <td>&gt;1 race</td>\n",
       "      <td>0</td>\n",
       "      <td>3627</td>\n",
       "      <td>2</td>\n",
       "    </tr>\n",
       "    <tr>\n",
       "      <th>4</th>\n",
       "      <td>&gt;1 race</td>\n",
       "      <td>0</td>\n",
       "      <td>387</td>\n",
       "      <td>2</td>\n",
       "    </tr>\n",
       "  </tbody>\n",
       "</table>\n",
       "</div>"
      ],
      "text/plain": [
       "      RACE  AGE  POPESTIMATE2022  count\n",
       "0  >1 race    0               42      4\n",
       "1  >1 race    0              118      4\n",
       "2  >1 race    0              262      3\n",
       "3  >1 race    0             3627      2\n",
       "4  >1 race    0              387      2"
      ]
     },
     "execution_count": 43,
     "metadata": {},
     "output_type": "execute_result"
    }
   ],
   "source": [
    "age = all_us.groupby(['RACE', 'AGE'])['POPESTIMATE2022'].value_counts().reset_index()\n",
    "\n",
    "age.head()"
   ]
  },
  {
   "cell_type": "code",
   "execution_count": 44,
   "metadata": {},
   "outputs": [
    {
     "data": {
      "image/png": "[encoded data removed]",
      "text/plain": [
       "<Figure size 640x480 with 1 Axes>"
      ]
     },
     "metadata": {},
     "output_type": "display_data"
    }
   ],
   "source": [
    "bins = [0, 19, 35, 55, 65, float('inf')]\n",
    "labels = ['0-18yrs', '19-34yrs', '35-54yrs', '55-64yrs', '65+']\n",
    "\n",
    "# Create 'AGE_BIN' column based on the bins and labels\n",
    "age_plot = (\n",
    "    age[['RACE', 'AGE', 'count']]\n",
    "    .assign(AGE_BIN = pd.cut(age['AGE'], bins = bins, labels = labels, right = False))\n",
    "    .groupby('RACE')['AGE_BIN']\n",
    "    .value_counts(normalize=True)\n",
    "    .unstack()\n",
    ")\n",
    "\n",
    "age_plot.plot(\n",
    "    kind = 'bar',\n",
    "    stacked = True,\n",
    "    rot = 0\n",
    ")\n",
    "\n",
    "plt.xlabel('Race/Ethinicity')\n",
    "plt.ylabel('Proportion')\n",
    "plt.legend(title = 'Age', bbox_to_anchor = (1, 1));\n",
    "plt.title(\"Age Distribution of Population by Race/Ethnicity, 2022\");"
   ]
  },
  {
   "cell_type": "markdown",
   "metadata": {},
   "source": [
    "**Generally, people of color exhibit a younger population compared to White individuals.** Within the younger demographic, the Native Hawaiian and Other Pacific Islander (NHOPI) category has a higher percentage in the 0-18 years age group compared to other racial categories. The percentages in the 35-54 years age group exhibit relative consistency across racial categories, indicating a similar distribution of individuals in their middle years.\n",
    "\n",
    "Both the Asian and Black racial categories display similar age distributions, with slightly higher percentages in the 65+ age group compared to some other racial categories. A noticeable distinction arises in the percentage of individuals in the 65+ age group between racial categories. White individuals present a significantly higher percentage in the 65+ age group compared to other races, indicating an older population."
   ]
  },
  {
   "cell_type": "markdown",
   "metadata": {},
   "source": [
    "<a name=\"coverage_access_useofcare\"></a>\n",
    "## 4. Health coverage, Access, and Use of care"
   ]
  },
  {
   "cell_type": "markdown",
   "metadata": {},
   "source": [
    "https://www.census.gov/library/publications/2023/demo/p60-281.html"
   ]
  },
  {
   "cell_type": "code",
   "execution_count": 63,
   "metadata": {},
   "outputs": [
    {
     "data": {
      "text/html": [
       "<div>\n",
       "<style scoped>\n",
       "    .dataframe tbody tr th:only-of-type {\n",
       "        vertical-align: middle;\n",
       "    }\n",
       "\n",
       "    .dataframe tbody tr th {\n",
       "        vertical-align: top;\n",
       "    }\n",
       "\n",
       "    .dataframe thead th {\n",
       "        text-align: right;\n",
       "    }\n",
       "</style>\n",
       "<table border=\"1\" class=\"dataframe\">\n",
       "  <thead>\n",
       "    <tr style=\"text-align: right;\">\n",
       "      <th></th>\n",
       "      <th>2022</th>\n",
       "      <th>2021</th>\n",
       "      <th>2020</th>\n",
       "      <th>2019</th>\n",
       "      <th>2018</th>\n",
       "      <th>2017</th>\n",
       "      <th>2016</th>\n",
       "      <th>2015</th>\n",
       "      <th>2014</th>\n",
       "      <th>2013</th>\n",
       "      <th>2012</th>\n",
       "      <th>2011</th>\n",
       "      <th>2010</th>\n",
       "      <th>2009</th>\n",
       "      <th>2008</th>\n",
       "    </tr>\n",
       "    <tr>\n",
       "      <th>Race</th>\n",
       "      <th></th>\n",
       "      <th></th>\n",
       "      <th></th>\n",
       "      <th></th>\n",
       "      <th></th>\n",
       "      <th></th>\n",
       "      <th></th>\n",
       "      <th></th>\n",
       "      <th></th>\n",
       "      <th></th>\n",
       "      <th></th>\n",
       "      <th></th>\n",
       "      <th></th>\n",
       "      <th></th>\n",
       "      <th></th>\n",
       "    </tr>\n",
       "  </thead>\n",
       "  <tbody>\n",
       "    <tr>\n",
       "      <th>All races</th>\n",
       "      <td>328300.00</td>\n",
       "      <td>326900.00</td>\n",
       "      <td>NaN</td>\n",
       "      <td>323100.00</td>\n",
       "      <td>322200.00</td>\n",
       "      <td>320800.00</td>\n",
       "      <td>318200.00</td>\n",
       "      <td>316500.00</td>\n",
       "      <td>313900.00</td>\n",
       "      <td>311200.00</td>\n",
       "      <td>308900.00</td>\n",
       "      <td>306600.00</td>\n",
       "      <td>304300.00</td>\n",
       "      <td>301500.00</td>\n",
       "      <td>298600.00</td>\n",
       "    </tr>\n",
       "    <tr>\n",
       "      <th>Black</th>\n",
       "      <td>39430.00</td>\n",
       "      <td>38930.00</td>\n",
       "      <td>NaN</td>\n",
       "      <td>40700.00</td>\n",
       "      <td>40390.00</td>\n",
       "      <td>40150.00</td>\n",
       "      <td>39650.00</td>\n",
       "      <td>39430.00</td>\n",
       "      <td>39130.00</td>\n",
       "      <td>38640.00</td>\n",
       "      <td>38330.00</td>\n",
       "      <td>37900.00</td>\n",
       "      <td>37570.00</td>\n",
       "      <td>36730.00</td>\n",
       "      <td>36240.00</td>\n",
       "    </tr>\n",
       "    <tr>\n",
       "      <th>AIAN</th>\n",
       "      <td>3137.00</td>\n",
       "      <td>3095.00</td>\n",
       "      <td>NaN</td>\n",
       "      <td>2778.00</td>\n",
       "      <td>2732.00</td>\n",
       "      <td>2660.00</td>\n",
       "      <td>2615.00</td>\n",
       "      <td>2531.00</td>\n",
       "      <td>2535.00</td>\n",
       "      <td>2461.00</td>\n",
       "      <td>2502.00</td>\n",
       "      <td>2482.00</td>\n",
       "      <td>2487.00</td>\n",
       "      <td>2394.00</td>\n",
       "      <td>2377.00</td>\n",
       "    </tr>\n",
       "    <tr>\n",
       "      <th>Asian</th>\n",
       "      <td>19590.00</td>\n",
       "      <td>19060.00</td>\n",
       "      <td>NaN</td>\n",
       "      <td>18530.00</td>\n",
       "      <td>18320.00</td>\n",
       "      <td>18130.00</td>\n",
       "      <td>17470.00</td>\n",
       "      <td>17190.00</td>\n",
       "      <td>16600.00</td>\n",
       "      <td>15930.00</td>\n",
       "      <td>15470.00</td>\n",
       "      <td>14940.00</td>\n",
       "      <td>14650.00</td>\n",
       "      <td>13680.00</td>\n",
       "      <td>13320.00</td>\n",
       "    </tr>\n",
       "    <tr>\n",
       "      <th>NHOPI</th>\n",
       "      <td>649.00</td>\n",
       "      <td>598.00</td>\n",
       "      <td>NaN</td>\n",
       "      <td>613.00</td>\n",
       "      <td>612.00</td>\n",
       "      <td>594.00</td>\n",
       "      <td>583.00</td>\n",
       "      <td>542.00</td>\n",
       "      <td>544.00</td>\n",
       "      <td>513.00</td>\n",
       "      <td>531.00</td>\n",
       "      <td>494.00</td>\n",
       "      <td>494.00</td>\n",
       "      <td>440.00</td>\n",
       "      <td>431.00</td>\n",
       "    </tr>\n",
       "    <tr>\n",
       "      <th>Hispanic (any race)</th>\n",
       "      <td>62810.00</td>\n",
       "      <td>61790.00</td>\n",
       "      <td>NaN</td>\n",
       "      <td>59690.00</td>\n",
       "      <td>59020.00</td>\n",
       "      <td>58110.00</td>\n",
       "      <td>56670.00</td>\n",
       "      <td>55760.00</td>\n",
       "      <td>54560.00</td>\n",
       "      <td>53270.00</td>\n",
       "      <td>52230.00</td>\n",
       "      <td>51240.00</td>\n",
       "      <td>50050.00</td>\n",
       "      <td>47660.00</td>\n",
       "      <td>46200.00</td>\n",
       "    </tr>\n",
       "    <tr>\n",
       "      <th>White</th>\n",
       "      <td>389500.00</td>\n",
       "      <td>390300.00</td>\n",
       "      <td>NaN</td>\n",
       "      <td>427200.00</td>\n",
       "      <td>427400.00</td>\n",
       "      <td>426900.00</td>\n",
       "      <td>426300.00</td>\n",
       "      <td>426500.00</td>\n",
       "      <td>425500.00</td>\n",
       "      <td>424500.00</td>\n",
       "      <td>423300.00</td>\n",
       "      <td>421900.00</td>\n",
       "      <td>420200.00</td>\n",
       "      <td>422200.00</td>\n",
       "      <td>420300.00</td>\n",
       "    </tr>\n",
       "  </tbody>\n",
       "</table>\n",
       "</div>"
      ],
      "text/plain": [
       "                         2022      2021  2020      2019      2018      2017  \\\n",
       "Race                                                                          \n",
       "All races           328300.00 326900.00   NaN 323100.00 322200.00 320800.00   \n",
       "Black                39430.00  38930.00   NaN  40700.00  40390.00  40150.00   \n",
       "AIAN                  3137.00   3095.00   NaN   2778.00   2732.00   2660.00   \n",
       "Asian                19590.00  19060.00   NaN  18530.00  18320.00  18130.00   \n",
       "NHOPI                  649.00    598.00   NaN    613.00    612.00    594.00   \n",
       "Hispanic (any race)  62810.00  61790.00   NaN  59690.00  59020.00  58110.00   \n",
       "White               389500.00 390300.00   NaN 427200.00 427400.00 426900.00   \n",
       "\n",
       "                         2016      2015      2014      2013      2012  \\\n",
       "Race                                                                    \n",
       "All races           318200.00 316500.00 313900.00 311200.00 308900.00   \n",
       "Black                39650.00  39430.00  39130.00  38640.00  38330.00   \n",
       "AIAN                  2615.00   2531.00   2535.00   2461.00   2502.00   \n",
       "Asian                17470.00  17190.00  16600.00  15930.00  15470.00   \n",
       "NHOPI                  583.00    542.00    544.00    513.00    531.00   \n",
       "Hispanic (any race)  56670.00  55760.00  54560.00  53270.00  52230.00   \n",
       "White               426300.00 426500.00 425500.00 424500.00 423300.00   \n",
       "\n",
       "                         2011      2010      2009      2008  \n",
       "Race                                                         \n",
       "All races           306600.00 304300.00 301500.00 298600.00  \n",
       "Black                37900.00  37570.00  36730.00  36240.00  \n",
       "AIAN                  2482.00   2487.00   2394.00   2377.00  \n",
       "Asian                14940.00  14650.00  13680.00  13320.00  \n",
       "NHOPI                  494.00    494.00    440.00    431.00  \n",
       "Hispanic (any race)  51240.00  50050.00  47660.00  46200.00  \n",
       "White               421900.00 420200.00 422200.00 420300.00  "
      ]
     },
     "execution_count": 63,
     "metadata": {},
     "output_type": "execute_result"
    }
   ],
   "source": [
    "health = (\n",
    "    pd.read_csv('hic09_acs.csv', header=3)\n",
    "    .rename(columns={'Race 1 and Hispanic Origin': 'Race'})\n",
    "    .set_index('Race')\n",
    ")\n",
    "\n",
    "# Remove margin of errors columns\n",
    "health = health.loc[:, ~health.columns.str.contains('Unnamed: |Margin of Error 2')] \n",
    "\n",
    "# Remove footnootes row\n",
    "health = health.iloc[:-7] \n",
    "\n",
    "# Remove NaN row\n",
    "health = health.drop(health.index[0])\n",
    "\n",
    "# Remove NaN row\n",
    "health.columns = [str(column)[:4] for column in health.columns]\n",
    "\n",
    "# Replace 'N' with NaN and convert to numeric\n",
    "health['2020'].replace('N', np.nan, inplace=True)\n",
    "health = health.replace(',', '', regex=True)\n",
    "numeric_columns = health.columns[:]\n",
    "health[numeric_columns] = health[numeric_columns].apply(pd.to_numeric, errors='coerce')\n",
    "\n",
    "# Re-classify groups\n",
    "health.loc['White_combined'] = health.loc['White'] + health.loc['White, not Hispanic']\n",
    "health = health.drop(['White', 'White, not Hispanic'])\n",
    "health = health.rename(index={\n",
    "    'Native Hawaiian and other Pacific Islander': 'NHOPI',\n",
    "    'American Indian and Alaska Native': 'AIAN',\n",
    "    'White_combined': 'White'})\n",
    "\n",
    "health"
   ]
  },
  {
   "cell_type": "code",
   "execution_count": 64,
   "metadata": {},
   "outputs": [
    {
     "data": {
      "image/png": "[encoded data removed]",
      "text/plain": [
       "<Figure size 1200x800 with 1 Axes>"
      ]
     },
     "metadata": {},
     "output_type": "display_data"
    }
   ],
   "source": [
    "health_transposed = health.T\n",
    "health_transposed = health_transposed.iloc[:, 1:]\n",
    "\n",
    "plt.figure(figsize = (12, 8))\n",
    "sns.lineplot(\n",
    "    data = health_transposed,\n",
    "    markers = 'o',\n",
    "    palette = 'viridis',\n",
    "    dashes = False)\n",
    "\n",
    "plt.title('Uninsured Rate Among Nonelderly Population by Race (2008-2022)')\n",
    "plt.xlabel('Year')\n",
    "plt.ylabel('Uninsured Rate')\n",
    "plt.legend(title = 'Race/Ethicnity', bbox_to_anchor = (1, 1));"
   ]
  },
  {
   "cell_type": "markdown",
   "metadata": {},
   "source": [
    "<a name=\"data_loading\"></a>\n",
    "## 2. Loading the data"
   ]
  },
  {
   "cell_type": "markdown",
   "metadata": {},
   "source": [
    "<a name=\"data_loading\"></a>\n",
    "## 2. Loading the data"
   ]
  },
  {
   "cell_type": "markdown",
   "metadata": {},
   "source": [
    "<a name=\"data_loading\"></a>\n",
    "## 2. Loading the data"
   ]
  },
  {
   "cell_type": "markdown",
   "metadata": {},
   "source": [
    "<a name=\"data_loading\"></a>\n",
    "## 2. Loading the data"
   ]
  },
  {
   "cell_type": "markdown",
   "metadata": {},
   "source": [
    "<a name=\"data_loading\"></a>\n",
    "## 2. Loading the data"
   ]
  },
  {
   "cell_type": "markdown",
   "metadata": {},
   "source": [
    "<a name=\"data_loading\"></a>\n",
    "## 2. Loading the data"
   ]
  },
  {
   "cell_type": "markdown",
   "metadata": {},
   "source": [
    "<a name=\"data_loading\"></a>\n",
    "## 2. Loading the data"
   ]
  }
 ],
 "metadata": {
  "kernelspec": {
   "display_name": "Python 3",
   "language": "python",
   "name": "python3"
  },
  "language_info": {
   "codemirror_mode": {
    "name": "ipython",
    "version": 3
   },
   "file_extension": ".py",
   "mimetype": "text/x-python",
   "name": "python",
   "nbconvert_exporter": "python",
   "pygments_lexer": "ipython3",
   "version": "3.12.1"
  }
 },
 "nbformat": 4,
 "nbformat_minor": 2
}
